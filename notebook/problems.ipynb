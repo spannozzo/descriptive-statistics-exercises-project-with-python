{
    "cells": [
        {
            "cell_type": "markdown",
            "id": "ac622319",
            "metadata": {},
            "source": [
                "# Descriptive Statistics Problems"
            ]
        },
        {
            "cell_type": "markdown",
            "id": "aa8993e4",
            "metadata": {},
            "source": [
                "### Exercise 1"
            ]
        },
        {
            "cell_type": "markdown",
            "id": "5e0ab0d5",
            "metadata": {},
            "source": [
                "As right now, you are familliar with numpy, we are going to use numpy to get some data statistics.\n",
                "\n",
                "First, lets create an array of 20 elements distributed normally (Gaussian):\n",
                "\n",
                "Use the np.random.normal function to create some data, using 0,1,20 as parameters because we want a one dimentional array of 20 numbers distributed normally (Gaussian)"
            ]
        },
        {
            "cell_type": "code",
            "execution_count": null,
            "id": "34720ab6",
            "metadata": {},
            "outputs": [],
            "source": [
                "#import libraries\n",
                "\n",
                "import numpy as np\n",
                "# Set seed in order to get similar results\n",
                "np.random.seed(0)\n",
                "\n",
                "# create the data\n",
                "x = np.random.norm(20)\n",
                "\n",
                "#print results\n",
                "print(x)"
            ]
        },
        {
            "cell_type": "code",
            "execution_count": null,
            "id": "49c55822",
            "metadata": {},
            "outputs": [],
            "source": [
                "#Use numpy to get the mean of your data"
            ]
        },
        {
            "cell_type": "code",
            "execution_count": 2,
            "id": "03529459",
            "metadata": {},
            "outputs": [],
            "source": [
                "#get the variance of your data"
            ]
        },
        {
            "cell_type": "code",
            "execution_count": 4,
            "id": "e53f30c5",
            "metadata": {},
            "outputs": [],
            "source": [
                "# Standard deviation\n"
            ]
        },
        {
            "cell_type": "code",
            "execution_count": 5,
            "id": "9bce852f",
            "metadata": {},
            "outputs": [],
            "source": [
                "#import libraries and print the mode\n",
                "\n",
                "\n",
                "# Mode for continuous array\n"
            ]
        },
        {
            "cell_type": "code",
            "execution_count": 6,
            "id": "c682cb6e",
            "metadata": {},
            "outputs": [],
            "source": [
                "# Median\n"
            ]
        },
        {
            "cell_type": "code",
            "execution_count": 7,
            "id": "39c3fabd",
            "metadata": {},
            "outputs": [],
            "source": [
                "# Print the Quantiles\n",
                "\n",
                "\n",
                "# This match with np.median, why?\n"
            ]
        },
        {
            "cell_type": "markdown",
            "id": "46c70c3d",
            "metadata": {},
            "source": [
                "### Exercise 2\n",
                "\n",
                "Write a Python program to calculate the standard deviation of the following data:\n",
                "```py\n",
                "data = [4, 2, 5, 8, 6]\n",
                "```"
            ]
        },
        {
            "cell_type": "code",
            "execution_count": 8,
            "id": "d590308e",
            "metadata": {},
            "outputs": [
                {
                    "ename": "IndentationError",
                    "evalue": "expected an indented block (4006267275.py, line 20)",
                    "output_type": "error",
                    "traceback": [
                        "\u001b[1;36m  Input \u001b[1;32mIn [8]\u001b[1;36m\u001b[0m\n\u001b[1;33m    def avg_calc(ls):\u001b[0m\n\u001b[1;37m    ^\u001b[0m\n\u001b[1;31mIndentationError\u001b[0m\u001b[1;31m:\u001b[0m expected an indented block\n"
                    ]
                }
            ],
            "source": [
                "import math\n",
                "import sys\n",
                "\n",
                "# Define the standard deviation function\n",
                "\n",
                "def sd_calc(data):\n",
                "    #code here\n",
                "    \n",
                "    \n",
                "    \n",
                "\n",
                "    # calculate stan. dev.\n",
                "    \n",
                "\n",
                "\n",
                "\n",
                "\n",
                "# Define the average function\n",
                "\n",
                "def avg_calc(ls):\n",
                "    #code here\n",
                "    \n",
                "    \n",
                "    \n",
                "\n",
                "    # calculate average\n",
                "    \n",
                "    \n",
                "    \n",
                "\n",
                "data = [4, 2, 5, 8, 6]\n",
                "\n",
                "#print the data\n",
                "\n",
                "#print the standard deviation of the data"
            ]
        },
        {
            "cell_type": "markdown",
            "id": "04b71791",
            "metadata": {},
            "source": [
                "Source:\n",
                "\n",
                "https://www.w3resource.com/"
            ]
        }
    ],
    "metadata": {
        "interpreter": {
            "hash": "9248718ffe6ce6938b217e69dbcc175ea21f4c6b28a317e96c05334edae734bb"
        },
        "kernelspec": {
            "display_name": "Python 3.9.12 ('ML-BOOTCAMP')",
            "language": "python",
            "name": "python3"
        },
        "language_info": {
            "codemirror_mode": {
                "name": "ipython",
                "version": 3
            },
            "file_extension": ".py",
            "mimetype": "text/x-python",
            "name": "python",
            "nbconvert_exporter": "python",
            "pygments_lexer": "ipython3",
            "version": "3.9.12"
        }
    },
    "nbformat": 4,
    "nbformat_minor": 5
}
